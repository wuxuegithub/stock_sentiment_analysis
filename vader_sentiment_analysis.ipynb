{
 "cells": [
  {
   "cell_type": "code",
   "execution_count": null,
   "metadata": {},
   "outputs": [],
   "source": [
    "pip install seaborn"
   ]
  },
  {
   "cell_type": "code",
   "execution_count": null,
   "metadata": {},
   "outputs": [],
   "source": [
    "# pip install nltk\n"
   ]
  },
  {
   "cell_type": "code",
   "execution_count": null,
   "metadata": {},
   "outputs": [],
   "source": [
    "import os \n",
    "import pandas as pd\n",
    "\n",
    "from sklearn.model_selection import train_test_split\n",
    "import numpy as np\n",
    "dir_name= os.getcwd()+'/data/'\n"
   ]
  },
  {
   "cell_type": "code",
   "execution_count": null,
   "metadata": {},
   "outputs": [],
   "source": [
    "import pandas as pd\n",
    "import nltk\n",
    "from nltk.sentiment.vader import SentimentIntensityAnalyzer\n",
    "from nltk.corpus import twitter_samples \n",
    "\n",
    "analyzer = SentimentIntensityAnalyzer()"
   ]
  },
  {
   "cell_type": "code",
   "execution_count": null,
   "metadata": {},
   "outputs": [],
   "source": [
    "def read_tweets_us_path(path):\n",
    "    print('read_us_path')\n",
    "    path=os.path.join(dir_name,'train-data/'+path)\n",
    "    df=pd.read_csv(path)\n",
    "    cs=[]\n",
    "    for row in range(len(df)):\n",
    "        cs.append(analyzer.polarity_scores(df['tweets'].iloc[row])['compound'])\n",
    "    df['compound_vader_score']=cs\n",
    "    print(df)\n",
    "    return df\n",
    "\n",
    "def read_news_us_path(path):\n",
    "    print('read_us_path')\n",
    "    path=os.path.join(dir_name,'train-data/'+path)\n",
    "    df=pd.read_csv(path)\n",
    "    cs=[]\n",
    "    for row in range(len(df)):\n",
    "        cs.append(analyzer.polarity_scores(df['news'].iloc[row])['compound'])\n",
    "    df['compound_vader_score']=cs\n",
    "    df = df[(df[['compound_vader_score']] != 0).all(axis=1)].reset_index(drop=True)\n",
    "    print(df)\n",
    "    return df"
   ]
  },
  {
   "cell_type": "code",
   "execution_count": null,
   "metadata": {},
   "outputs": [],
   "source": [
    "def find_tweets_pred_label(grouped_data,file_name,perc_change):\n",
    "    print('find_pred_label')\n",
    "    tweets=grouped_data['tweets']\n",
    "    grouped_data=grouped_data.groupby(['dates','ticker'])['compound_vader_score'].mean().reset_index()\n",
    "    final_label=[]\n",
    "    for i in range(len(grouped_data)):\n",
    "\n",
    "        if grouped_data['compound_vader_score'].iloc[i]>perc_change:\n",
    "            final_label.append(2)\n",
    "        elif grouped_data['compound_vader_score'].iloc[i]<-perc_change:\n",
    "            final_label.append(0)\n",
    "        elif (grouped_data['compound_vader_score'].iloc[i]>=-perc_change  and grouped_data['compound_vader_score'].iloc[i]<=perc_change):\n",
    "            final_label.append(1)\n",
    "\n",
    "    grouped_data['pred_label']=final_label\n",
    "    grouped_data['tweets']=tweets\n",
    "    grouped_data.to_csv(file_name)\n",
    "    \n",
    "def find_news_pred_label(grouped_data,file_name,perc_change):\n",
    "    print('find_pred_label')\n",
    "    tweets=grouped_data['news']\n",
    "    grouped_data=grouped_data.groupby(['dates','ticker'])['compound_vader_score'].mean().reset_index()\n",
    "    final_label=[]\n",
    "    for i in range(len(grouped_data)):\n",
    "        if grouped_data['compound_vader_score'].iloc[i]>perc_change:\n",
    "            final_label.append(2)\n",
    "        elif grouped_data['compound_vader_score'].iloc[i]<-perc_change:\n",
    "            final_label.append(0)\n",
    "        elif (grouped_data['compound_vader_score'].iloc[i]>=-perc_change  \n",
    "              and grouped_data['compound_vader_score'].iloc[i]<=perc_change):\n",
    "            final_label.append(1)\n",
    "\n",
    "    grouped_data['pred_label']=final_label\n",
    "    grouped_data['news']=tweets\n",
    "    grouped_data.to_csv(file_name)\n"
   ]
  },
  {
   "cell_type": "code",
   "execution_count": null,
   "metadata": {},
   "outputs": [],
   "source": [
    "\n",
    "def merge_actual_label (join_path,label_data):\n",
    "    print('merge_actual_label')\n",
    "    vader_data=pd.read_csv(join_path)\n",
    "    vader_data.set_index(keys = [\"dates\",\"ticker\"],inplace=True)\n",
    "#     print(vader_data)\n",
    "    label_data=pd.read_csv(label_data)\n",
    "    label_data.set_index(keys = [\"dates\",\"ticker\"],inplace=True)\n",
    "#     print(label_data)\n",
    "    merge=pd.merge(vader_data,label_data, how='inner', left_index=True, right_index=True)\n",
    "    merge.drop(columns=['Unnamed: 0_y','Unnamed: 0.1'],axis=1)\n",
    "    print(merge)\n",
    "    return merge\n"
   ]
  },
  {
   "cell_type": "code",
   "execution_count": null,
   "metadata": {},
   "outputs": [],
   "source": [
    "import seaborn as sns\n",
    "def make_confusion_matrix(cf,group_names=None,categories='auto',count=True,percent=True,cbar=True,xyticks=True,xyplotlabels=True,\n",
    "sum_stats=True,figsize=None,cmap='Blues', title=None):\n",
    "\n",
    "    blanks = ['' for i in range(cf.size)]\n",
    "\n",
    "    if group_names and len(group_names)==cf.size:\n",
    "        group_labels = [\"{}\\n\".format(value) for value in group_names]\n",
    "    else:\n",
    "        group_labels = blanks\n",
    "\n",
    "    if count:\n",
    "        group_counts = [\"{0:0.0f}\\n\".format(value) for value in cf.flatten()]\n",
    "    else:\n",
    "        group_counts = blanks\n",
    "\n",
    "    if percent:\n",
    "        group_percentages = [\"{0:.2%}\".format(value) for value in cf.flatten()/np.sum(cf)]\n",
    "    else:\n",
    "        group_percentages = blanks\n",
    "\n",
    "    box_labels = [f\"{v1}{v2}{v3}\".strip() for v1, v2, v3 in zip(group_labels,group_counts,group_percentages)]\n",
    "    box_labels = np.asarray(box_labels).reshape(cf.shape[0],cf.shape[1])\n",
    "\n",
    "\n",
    "    if sum_stats:\n",
    "        accuracy  = np.trace(cf) / float(np.sum(cf))\n",
    "        if len(cf)==2:\n",
    "            precision = cf[1,1] / sum(cf[:,1])\n",
    "            recall    = cf[1,1] / sum(cf[1,:])\n",
    "            f1_score  = 2*precision*recall / (precision + recall)\n",
    "            stats_text = \"\\n\\nAccuracy={:0.3f}\\nPrecision={:0.3f}\\nRecall={:0.3f}\\nF1 Score={:0.3f}\".format(\n",
    "                accuracy,precision,recall,f1_score)\n",
    "        else:\n",
    "            stats_text = \"\\n\\nAccuracy={:0.3f}\".format(accuracy)\n",
    "    else:\n",
    "        stats_text = \"\"\n",
    "\n",
    "\n",
    "\n",
    "    if figsize==None:\n",
    "\n",
    "        figsize = plt.rcParams.get('figure.figsize')\n",
    "\n",
    "    if xyticks==False:\n",
    "        categories=False\n",
    "\n",
    "\n",
    "    # MAKE THE HEATMAP VISUALIZATION\n",
    "    plt.figure(figsize=figsize)\n",
    "    sns.heatmap(cf,annot=box_labels,fmt=\"\",cmap=cmap,cbar=cbar,xticklabels=categories,yticklabels=categories)\n",
    "\n",
    "    if xyplotlabels:\n",
    "        plt.ylabel('True label')\n",
    "        plt.xlabel('Predicted label' + stats_text)\n",
    "    else:\n",
    "        plt.xlabel(stats_text)\n",
    "    \n",
    "    if title:\n",
    "        plt.title(title)"
   ]
  },
  {
   "cell_type": "code",
   "execution_count": null,
   "metadata": {},
   "outputs": [],
   "source": [
    "from sklearn.metrics import confusion_matrix\n",
    "import matplotlib.pyplot as plt\n",
    "\n",
    "def validation(df):\n",
    "    print(validation)\n",
    "    pred_label=list(df['pred_label'])\n",
    "    actual_label=list(df['label'])\n",
    "    labels=[0,1,2]\n",
    "    cm=confusion_matrix(actual_label, pred_label,labels)\n",
    "    labels = ['True Neg','False Pos','False Neg','True Pos']\n",
    "    categories = ['Negative','Zero', 'Positive']\n",
    "    make_confusion_matrix(cm, group_names=labels, categories=categories, )"
   ]
  },
  {
   "cell_type": "code",
   "execution_count": null,
   "metadata": {},
   "outputs": [],
   "source": [
    "# \n",
    "def us_tweets_starter(path,file_name,label_data,percent_change):\n",
    "    grouped_data=read_tweets_us_path(path)\n",
    "    find_tweets_pred_label(grouped_data,file_name,percent_change)\n",
    "    df=merge_actual_label (file_name,label_data)\n",
    "    return df\n",
    "\n",
    "\n",
    "def us_news_starter(path,file_name,label_data,percent_change):\n",
    "    grouped_data=read_news_us_path(path)\n",
    "    find_news_pred_label(grouped_data,file_name,percent_change)\n",
    "    df=merge_actual_label (file_name,label_data)\n",
    "    \n",
    "    return df\n",
    " "
   ]
  },
  {
   "cell_type": "code",
   "execution_count": null,
   "metadata": {
    "scrolled": true
   },
   "outputs": [],
   "source": [
    "# getting nasdaq tweets\n",
    "# threshold=np.linspace(0.0,0.02, num=5)\n",
    "# nasdaq_tweets_accuracies=[]\n",
    "# for val in threshold:\n",
    "#     print (val)\n",
    "nasdaq_tweets_path='nasdaq/nasdaq_no_labelled_tweets.csv'\n",
    "nasdaq_vader_tweets_path=os.path.join(dir_name,'train-data/nasdaq/nasdaq_vader_tweets.csv')\n",
    "join_path=os.path.join(dir_name,'train-data/nasdaq/nasdaq_labelled_data.csv')\n",
    "nasdaq_tweets_df=us_tweets_starter(nasdaq_tweets_path,nasdaq_vader_tweets_path,join_path,0.01)\n",
    "# nasdaq_tweets_accuracies.append(find_accuracy(nasdaq_tweets_df))"
   ]
  },
  {
   "cell_type": "code",
   "execution_count": null,
   "metadata": {
    "scrolled": true
   },
   "outputs": [],
   "source": [
    "\n",
    "import matplotlib.pyplot as plt\n",
    "def plot_accuracy(accuracies):\n",
    "    x=accuracies\n",
    "    y=np.linspace(0.0,0.02, num=5)\n",
    "    plt.plot(y,x)\n",
    "    plt.ylabel('Accuracies')\n",
    "    plt.xlabel('threshold')\n",
    "    \n",
    "#     plt.annotate('Local Max', x =) \n",
    "    plt.show() \n",
    "    \n",
    "#find_accuracy(nasdaq_tweets_df)\n",
    "def find_accuracy(name):\n",
    "    pred=list(name['pred_label'])\n",
    "    act=list(name['label'])\n",
    "    true=0\n",
    "    false=0\n",
    "    for i in range(len(pred)):\n",
    "        if(pred[i]==act[i]):\n",
    "            true+=1\n",
    "        else:\n",
    "            false+=1\n",
    "    acc=true/len(pred)\n",
    "    print(acc)\n",
    "    return acc\n",
    "\n",
    "# plot_accuracy(nasdaq_tweets_accuracies)"
   ]
  },
  {
   "cell_type": "code",
   "execution_count": null,
   "metadata": {},
   "outputs": [],
   "source": [
    "validation(nasdaq_tweets_df)"
   ]
  },
  {
   "cell_type": "code",
   "execution_count": null,
   "metadata": {
    "scrolled": true
   },
   "outputs": [],
   "source": [
    "# getting nasdaq news\n",
    "# threshold=np.linspace(0.0, 0.02, num=5)\n",
    "# nasdaq_news_accuracies=[]\n",
    "# for val in threshold:\n",
    "#     print(val)\n",
    "nasdaq_news_path='nasdaq/nasdaq_no_labelled_news.csv'\n",
    "\n",
    "nasdaq_vader_news_path=os.path.join(dir_name,'train-data/nasdaq/nasdaq_vader_news.csv')\n",
    "join_path=os.path.join(dir_name,'train-data/nasdaq/nasdaq_labelled_data.csv')\n",
    "\n",
    "nasdaq_news_df=us_news_starter(nasdaq_news_path,nasdaq_vader_news_path,join_path,0.01)\n",
    "# nasdaq_news_accuracies.append(find_accuracy(nasdaq_news_df))\n"
   ]
  },
  {
   "cell_type": "code",
   "execution_count": null,
   "metadata": {},
   "outputs": [],
   "source": [
    "validation(nasdaq_news_df)"
   ]
  },
  {
   "cell_type": "code",
   "execution_count": null,
   "metadata": {
    "scrolled": true
   },
   "outputs": [],
   "source": [
    "# getting nyse news\n",
    "# threshold=np.linspace(0.0, 0.02, num=5)\n",
    "# nyse_newss_accuracies=[]\n",
    "# for val in threshold:\n",
    "#     print(val)\n",
    "nyse_news_path='nyse/nyse_no_labelled_news.csv'\n",
    "nyse_vader_news_path=os.path.join(dir_name,'train-data/nyse/nyse_vader_news.csv')\n",
    "join_path=os.path.join(dir_name,'train-data/nyse/nyse_labelled_data.csv')\n",
    "\n",
    "nyse_news_df=us_news_starter(nyse_news_path,nyse_vader_news_path,join_path,0.01)\n",
    "#     nyse_newss_accuracies.append(find_accuracy(nyse_news_df))"
   ]
  },
  {
   "cell_type": "code",
   "execution_count": null,
   "metadata": {},
   "outputs": [],
   "source": [
    "validation(nyse_news_df)"
   ]
  },
  {
   "cell_type": "code",
   "execution_count": null,
   "metadata": {},
   "outputs": [],
   "source": [
    "# getting nyse tweets\n",
    "\n",
    "# threshold=np.linspace(0.0, 0.02, num=5)\n",
    "# nyse_tweets_accuracies=[]\n",
    "# for val in threshold:\n",
    "#     print(val)\n",
    "nyse_tweets_path='nyse/nyse_no_labelled_tweets.csv'\n",
    "nyse_vader_tweets_path=os.path.join(dir_name,'train-data/nyse/nyse_vader_tweets.csv')\n",
    "join_path=os.path.join(dir_name,'train-data/nyse/nyse_labelled_data.csv')\n",
    "nyse_tweets_df=us_tweets_starter(nyse_tweets_path,nyse_vader_tweets_path,join_path,0.01)\n",
    "#     nyse_tweets_accuracies.append(find_accuracy(nyse_tweets_df))\n"
   ]
  },
  {
   "cell_type": "code",
   "execution_count": null,
   "metadata": {
    "scrolled": true
   },
   "outputs": [],
   "source": [
    "# # validations\n",
    "validation(nyse_tweets_df)"
   ]
  },
  {
   "cell_type": "code",
   "execution_count": null,
   "metadata": {},
   "outputs": [],
   "source": [
    "# nyse_news_path='nyse/nyse_no_labelled_news.csv'\n",
    "# nyse_vader_news_path=os.path.join(dir_name,'train-data/nyse/nyse_vader_news.csv')\n",
    "# join_path=os.path.join(dir_name,'train-data/nyse/nyse_labelled_data.csv')\n",
    "\n",
    "# nyse_news_df=us_news_starter(nyse_news_path,nyse_vader_news_path,join_path,0.00)\n",
    "\n",
    "\n",
    "\n",
    "# threshold=np.linspace(0.0, 0.02, num=5)\n",
    "# hk_accuracies=[]\n",
    "# for val in threshold:\n",
    "#     print (val)\n",
    "hkex_news_path='hkex/hkex_no_labelled_news.csv'\n",
    "hkex_vader_news_path=os.path.join(dir_name,'train-data/hkex/hkex_vader_news.csv')\n",
    "join_path=os.path.join(dir_name,'train-data/hkex/hkex_labelled_data.csv')\n",
    "hkex_news_df=us_news_starter(hkex_news_path,hkex_vader_news_path,join_path,0.01)\n",
    "#     hk_accuracies.append(find_accuracy(hkex_news_df))\n"
   ]
  },
  {
   "cell_type": "code",
   "execution_count": null,
   "metadata": {},
   "outputs": [],
   "source": [
    "validation(hkex_news_df)"
   ]
  },
  {
   "cell_type": "code",
   "execution_count": null,
   "metadata": {},
   "outputs": [],
   "source": [
    "plot_accuracy(nasdaq_tweets_accuracies)\n",
    "plot_accuracy(nasdaq_news_accuracies)\n",
    "plot_accuracy(nyse_tweets_accuracies)\n",
    "plot_accuracy(nyse_newss_accuracies)\n",
    "plot_accuracy(hk_accuracies)"
   ]
  },
  {
   "cell_type": "code",
   "execution_count": null,
   "metadata": {},
   "outputs": [],
   "source": []
  },
  {
   "cell_type": "code",
   "execution_count": null,
   "metadata": {},
   "outputs": [],
   "source": []
  },
  {
   "cell_type": "code",
   "execution_count": null,
   "metadata": {},
   "outputs": [],
   "source": []
  },
  {
   "cell_type": "code",
   "execution_count": null,
   "metadata": {},
   "outputs": [],
   "source": []
  },
  {
   "cell_type": "code",
   "execution_count": null,
   "metadata": {
    "scrolled": true
   },
   "outputs": [],
   "source": []
  }
 ],
 "metadata": {
  "kernelspec": {
   "display_name": "tensorflow-gpu",
   "language": "python",
   "name": "tensorflow-gpu"
  },
  "language_info": {
   "codemirror_mode": {
    "name": "ipython",
    "version": 3
   },
   "file_extension": ".py",
   "mimetype": "text/x-python",
   "name": "python",
   "nbconvert_exporter": "python",
   "pygments_lexer": "ipython3",
   "version": "3.6.12"
  }
 },
 "nbformat": 4,
 "nbformat_minor": 2
}
