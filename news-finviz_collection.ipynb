{
 "cells": [
  {
   "cell_type": "code",
   "execution_count": null,
   "metadata": {},
   "outputs": [],
   "source": [
    "!pip install requests"
   ]
  },
  {
   "cell_type": "code",
   "execution_count": null,
   "metadata": {},
   "outputs": [],
   "source": [
    "!pip3 install beautifulsoup4"
   ]
  },
  {
   "cell_type": "code",
   "execution_count": null,
   "metadata": {},
   "outputs": [],
   "source": [
    "# get data input for nasdaq\n",
    "import pandas as pd\n",
    "import os\n",
    "\n",
    "\n",
    "dir_name= os.getcwd()+'/data/'\n",
    "\n",
    "nasdaq_files=os.path.join(dir_name,'stock_ticker_datasets/nasdaq.csv')\n",
    "nyse_files=os.path.join(dir_name,'stock_ticker_datasets/nyse.csv')\n",
    "nasdaq=pd.read_csv(nasdaq_files) \n",
    "nyse=pd.read_csv(nyse_files)\n",
    "\n",
    "nasdaq['Symbol']=nasdaq['Symbol'].astype(str)\n",
    "nasdaq_input=nasdaq['Symbol']\n",
    "\n",
    "nyse['Symbol']=nyse['Symbol'].astype(str)\n",
    "nyse_input=nyse['Symbol']\n",
    "\n",
    "n = 400  #chunk row size\n",
    "nasdaq_df = [nasdaq_input[i:i+n] for i in range(0,nasdaq_input.shape[0],n)]\n",
    "nyse_df = [nyse_input[i:i+n] for i in range(0,nyse_input.shape[0],n)]\n",
    "df=nasdaq_df+nyse_df\n",
    "nasdaq.set_index(\"Symbol\" , inplace=True)\n",
    "nyse.set_index(\"Symbol\" , inplace=True)\n",
    "print(nyse)"
   ]
  },
  {
   "cell_type": "code",
   "execution_count": null,
   "metadata": {},
   "outputs": [],
   "source": []
  },
  {
   "cell_type": "code",
   "execution_count": null,
   "metadata": {},
   "outputs": [],
   "source": [
    "input_list.head()"
   ]
  },
  {
   "cell_type": "code",
   "execution_count": null,
   "metadata": {},
   "outputs": [],
   "source": [
    "from bs4 import BeautifulSoup\n",
    "from urllib.request import Request\n",
    "from urllib.request import urlopen\n",
    "import csv\n",
    "import datetime, time\n",
    "\n",
    "# get data\n",
    "news_tables = {}\n",
    "\n",
    "finviz_url = 'https://finviz.com/quote.ashx?t='\n",
    "\n",
    "def get_finviz(ticker,day):\n",
    "    try:\n",
    "        url = finviz_url + ticker\n",
    "        req = Request(url=url,headers={'user-agent': 'my-app/0.0.1'}) \n",
    "        resp = urlopen(req) \n",
    "        html = BeautifulSoup(resp, features=\"lxml\")\n",
    "        news_table = html.find(id='news-table')   \n",
    "        news_tables[ticker] = news_table\n",
    "        df = news_tables[ticker]\n",
    "        path=os.path.join(dir_name,'data-news/data-finviz/'+'data-'+ticker+'-finviz.csv')\n",
    "        with open(path,'w') as f:\n",
    "            print(ticker)\n",
    "            writer = csv.writer(f)\n",
    "            for info in df.findAll('tr'):\n",
    "                text=info.a.get_text()\n",
    "                date_scrape= info.td.text.split()\n",
    "                if(len(date_scrape)==1):\n",
    "                    time=date_scrape[0]\n",
    "                else:\n",
    "                    date= date_scrape[0]\n",
    "                    time=date_scrape[1]\n",
    "                    news_time_str= date+\" \"+time;\n",
    "#                 print(news_time_str)\n",
    "#                 date_time_obj = datetime.datetime.strptime(news_time_str, '%b-%d-%y %I:%M%p')\n",
    "                date_time_obj = datetime.datetime.strptime(news_time_str, '%b-%d-%y %I:%M%p').strftime('%Y-%m-%d')\n",
    "#                 date_time_obj=date_time_obj.dt.strftime('%Y/%m/%d')\n",
    "                if(datetime.datetime.now()-date_time_obj).days<=day:\n",
    "                    writer.writerow([date_time_obj,text])\n",
    "\n",
    "        \n",
    "    except:\n",
    "        print(\"error\")\n",
    "        pass\n",
    "\n",
    "# get_finviz('AAPL')\n",
    "        "
   ]
  },
  {
   "cell_type": "code",
   "execution_count": null,
   "metadata": {},
   "outputs": [],
   "source": []
  },
  {
   "cell_type": "code",
   "execution_count": null,
   "metadata": {},
   "outputs": [],
   "source": [
    "    \n",
    "# getting news data for tickers listed in nasdaq        \n",
    "for tickers in nasdaq_df:\n",
    "    for ticker in tickers:\n",
    "        get_finviz(ticker,1)\n",
    "        \n",
    "# getting news data for tickers listed in nyse       \n",
    "for tickers in df:\n",
    "    for ticker in tickers:\n",
    "        get_finviz(ticker,1)\n"
   ]
  },
  {
   "cell_type": "code",
   "execution_count": null,
   "metadata": {},
   "outputs": [],
   "source": []
  },
  {
   "cell_type": "code",
   "execution_count": null,
   "metadata": {},
   "outputs": [],
   "source": [
    "nyse_pd= pd.DataFrame()\n",
    "nasdaq_pd = pd.DataFrame()\n",
    "\n",
    "\n",
    "    \n",
    "for nas in nasdaq_df:\n",
    "     for symbol in nas:\n",
    "        try:\n",
    "\n",
    "            df_news = pd.read_csv('/userhome/cs/wuxue/Sentiment_Analysis/data-news/data-finviz/'+'data-%s-finviz.csv'%symbol,names=['dates','news'])\n",
    "            sector=nasdaq.loc[symbol]['Sector']\n",
    "            ticker=[symbol for i in range(len(df_news))]\n",
    "            Sector=[sector for i in range(len(df_news))]\n",
    "            df_news['ticker']=ticker\n",
    "            df_news['sector']=Sector\n",
    "            nasdaq_pd=nasdaq_pd.append(df_news)  \n",
    "            print(nasdaq_pd)\n",
    "        except:\n",
    "            print('no such file exist')\n",
    "            pass\n",
    "\n",
    "for ny in nyse_df:\n",
    "     for symbol in ny:\n",
    "        try:\n",
    "            path=os.path.join(dir_name,'data-news/data-finviz/'+'data-'+symbol+'-finviz.csv')\n",
    "            df_news = pd.read_csv(path,names=['dates','news'])\n",
    "            sector=nyse.loc[symbol]['Sector']\n",
    "            ticker=[symbol for i in range(len(df_news))]\n",
    "            Sector=[sector for i in range(len(df_news))]\n",
    "            df_news['ticker']=ticker\n",
    "            df_news['sector']=Sector\n",
    "            nyse_pd=nyse_pd.append(df_news)  \n",
    "            print(nyse_pd)\n",
    "        except:\n",
    "            print('no such file exist')\n",
    "            pass\n",
    "\n",
    "\n",
    "\n",
    "nasdaq_pd.to_csv('nasdaq_no_labelled_news.csv')\n",
    "nyse_pd.to_csv('nyse_no_labelled_news.csv')"
   ]
  },
  {
   "cell_type": "code",
   "execution_count": null,
   "metadata": {},
   "outputs": [],
   "source": []
  },
  {
   "cell_type": "code",
   "execution_count": null,
   "metadata": {},
   "outputs": [],
   "source": []
  },
  {
   "cell_type": "code",
   "execution_count": null,
   "metadata": {},
   "outputs": [],
   "source": []
  },
  {
   "cell_type": "code",
   "execution_count": null,
   "metadata": {},
   "outputs": [],
   "source": []
  },
  {
   "cell_type": "code",
   "execution_count": null,
   "metadata": {},
   "outputs": [],
   "source": []
  }
 ],
 "metadata": {
  "kernelspec": {
   "display_name": "Python 3",
   "language": "python",
   "name": "python3"
  },
  "language_info": {
   "codemirror_mode": {
    "name": "ipython",
    "version": 3
   },
   "file_extension": ".py",
   "mimetype": "text/x-python",
   "name": "python",
   "nbconvert_exporter": "python",
   "pygments_lexer": "ipython3",
   "version": "3.7.4"
  }
 },
 "nbformat": 4,
 "nbformat_minor": 2
}
