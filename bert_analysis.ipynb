{
 "cells": [
  {
   "cell_type": "code",
   "execution_count": 1,
   "metadata": {},
   "outputs": [
    {
     "name": "stdout",
     "output_type": "stream",
     "text": [
      "Collecting transformers\n",
      "  Using cached transformers-4.1.1-py3-none-any.whl (1.5 MB)\n",
      "Requirement already satisfied: numpy in /userhome/30/xwu/anaconda3/envs/tensorflow-gpu/lib/python3.6/site-packages (from transformers) (1.19.2)\n",
      "Requirement already satisfied: requests in /userhome/30/xwu/anaconda3/envs/tensorflow-gpu/lib/python3.6/site-packages (from transformers) (2.25.1)\n",
      "Collecting tokenizers==0.9.4\n",
      "  Using cached tokenizers-0.9.4-cp36-cp36m-manylinux2010_x86_64.whl (2.9 MB)\n",
      "Collecting regex!=2019.12.17\n",
      "  Using cached regex-2020.11.13-cp36-cp36m-manylinux2014_x86_64.whl (723 kB)\n",
      "Collecting tqdm>=4.27\n",
      "  Using cached tqdm-4.55.2-py2.py3-none-any.whl (68 kB)\n",
      "Collecting dataclasses\n",
      "  Using cached dataclasses-0.8-py3-none-any.whl (19 kB)\n",
      "Collecting filelock\n",
      "  Using cached filelock-3.0.12-py3-none-any.whl (7.6 kB)\n",
      "Collecting packaging\n",
      "  Using cached packaging-20.8-py2.py3-none-any.whl (39 kB)\n",
      "Collecting pyparsing>=2.0.2\n",
      "  Using cached pyparsing-2.4.7-py2.py3-none-any.whl (67 kB)\n",
      "Requirement already satisfied: certifi>=2017.4.17 in /userhome/30/xwu/anaconda3/envs/tensorflow-gpu/lib/python3.6/site-packages (from requests->transformers) (2020.12.5)\n",
      "Requirement already satisfied: idna<3,>=2.5 in /userhome/30/xwu/anaconda3/envs/tensorflow-gpu/lib/python3.6/site-packages (from requests->transformers) (2.10)\n",
      "Requirement already satisfied: chardet<5,>=3.0.2 in /userhome/30/xwu/anaconda3/envs/tensorflow-gpu/lib/python3.6/site-packages (from requests->transformers) (3.0.4)\n",
      "Requirement already satisfied: urllib3<1.27,>=1.21.1 in /userhome/30/xwu/anaconda3/envs/tensorflow-gpu/lib/python3.6/site-packages (from requests->transformers) (1.26.2)\n",
      "Collecting sacremoses\n",
      "  Using cached sacremoses-0.0.43-py3-none-any.whl\n",
      "Requirement already satisfied: click in /userhome/30/xwu/anaconda3/envs/tensorflow-gpu/lib/python3.6/site-packages (from sacremoses->transformers) (7.1.2)\n",
      "Requirement already satisfied: six in /userhome/30/xwu/anaconda3/envs/tensorflow-gpu/lib/python3.6/site-packages (from sacremoses->transformers) (1.15.0)\n",
      "Collecting joblib\n",
      "  Using cached joblib-1.0.0-py3-none-any.whl (302 kB)\n",
      "Installing collected packages: tqdm, regex, pyparsing, joblib, tokenizers, sacremoses, packaging, filelock, dataclasses, transformers\n",
      "Successfully installed dataclasses-0.8 filelock-3.0.12 joblib-1.0.0 packaging-20.8 pyparsing-2.4.7 regex-2020.11.13 sacremoses-0.0.43 tokenizers-0.9.4 tqdm-4.55.2 transformers-4.1.1\n",
      "Note: you may need to restart the kernel to use updated packages.\n"
     ]
    }
   ],
   "source": [
    "pip install transformers"
   ]
  },
  {
   "cell_type": "code",
   "execution_count": 9,
   "metadata": {},
   "outputs": [
    {
     "name": "stdout",
     "output_type": "stream",
     "text": [
      "Collecting torchvision\n",
      "  Downloading torchvision-0.8.2-cp36-cp36m-manylinux1_x86_64.whl (12.8 MB)\n",
      "\u001b[K     |████████████████████████████████| 12.8 MB 6.0 MB/s eta 0:00:01\n",
      "\u001b[?25hRequirement already satisfied: numpy in /userhome/30/xwu/anaconda3/envs/tensorflow/lib/python3.6/site-packages (from torchvision) (1.19.5)\n",
      "Collecting torch==1.7.1\n",
      "  Downloading torch-1.7.1-cp36-cp36m-manylinux1_x86_64.whl (776.8 MB)\n",
      "\u001b[K     |████████████████████████████████| 776.8 MB 26 kB/s s eta 0:00:01\n",
      "\u001b[?25hRequirement already satisfied: typing-extensions in /userhome/30/xwu/anaconda3/envs/tensorflow/lib/python3.6/site-packages (from torch==1.7.1->torchvision) (3.7.4.3)\n",
      "Requirement already satisfied: dataclasses in /userhome/30/xwu/anaconda3/envs/tensorflow/lib/python3.6/site-packages (from torch==1.7.1->torchvision) (0.8)\n",
      "Collecting pillow>=4.1.1\n",
      "  Downloading Pillow-8.1.0-cp36-cp36m-manylinux1_x86_64.whl (2.2 MB)\n",
      "\u001b[K     |████████████████████████████████| 2.2 MB 51.1 MB/s eta 0:00:01\n",
      "\u001b[?25hInstalling collected packages: torch, pillow, torchvision\n",
      "Successfully installed pillow-8.1.0 torch-1.7.1 torchvision-0.8.2\n",
      "Note: you may need to restart the kernel to use updated packages.\n"
     ]
    }
   ],
   "source": [
    "# pip install torchvision "
   ]
  },
  {
   "cell_type": "code",
   "execution_count": 10,
   "metadata": {},
   "outputs": [
    {
     "name": "stdout",
     "output_type": "stream",
     "text": [
      "Collecting matplotlib\n",
      "  Using cached matplotlib-3.3.3-cp36-cp36m-manylinux1_x86_64.whl (11.6 MB)\n",
      "Requirement already satisfied: pyparsing!=2.0.4,!=2.1.2,!=2.1.6,>=2.0.3 in /userhome/30/xwu/anaconda3/envs/tensorflow-gpu/lib/python3.6/site-packages (from matplotlib) (2.4.7)\n",
      "Requirement already satisfied: python-dateutil>=2.1 in /userhome/30/xwu/anaconda3/envs/tensorflow-gpu/lib/python3.6/site-packages (from matplotlib) (2.8.1)\n",
      "Requirement already satisfied: numpy>=1.15 in /userhome/30/xwu/anaconda3/envs/tensorflow-gpu/lib/python3.6/site-packages (from matplotlib) (1.19.2)\n",
      "Collecting cycler>=0.10\n",
      "  Using cached cycler-0.10.0-py2.py3-none-any.whl (6.5 kB)\n",
      "Requirement already satisfied: six in /userhome/30/xwu/anaconda3/envs/tensorflow-gpu/lib/python3.6/site-packages (from cycler>=0.10->matplotlib) (1.15.0)\n",
      "Collecting kiwisolver>=1.0.1\n",
      "  Using cached kiwisolver-1.3.1-cp36-cp36m-manylinux1_x86_64.whl (1.1 MB)\n",
      "Collecting pillow>=6.2.0\n",
      "  Using cached Pillow-8.1.0-cp36-cp36m-manylinux1_x86_64.whl (2.2 MB)\n",
      "Installing collected packages: pillow, kiwisolver, cycler, matplotlib\n",
      "Successfully installed cycler-0.10.0 kiwisolver-1.3.1 matplotlib-3.3.3 pillow-8.1.0\n",
      "Note: you may need to restart the kernel to use updated packages.\n"
     ]
    }
   ],
   "source": [
    "pip install -U matplotlib"
   ]
  },
  {
   "cell_type": "code",
   "execution_count": 1,
   "metadata": {},
   "outputs": [],
   "source": [
    "# pip install tensorflow"
   ]
  },
  {
   "cell_type": "code",
   "execution_count": 3,
   "metadata": {},
   "outputs": [
    {
     "name": "stdout",
     "output_type": "stream",
     "text": [
      "tensorflow                         2.4.0     \n",
      "tensorflow-estimator               2.4.0     \n",
      "tensorflow-gpu                     2.4.0     \n",
      "transformers                       4.1.1     \n"
     ]
    }
   ],
   "source": [
    "!pip list | grep \"tensorflow\"   # Check tensorflow==2.0.0, tensorflow-gpu==2.0.0\n",
    "!pip list | grep \"transformers\" # Check transformers>=2.0.0"
   ]
  },
  {
   "cell_type": "code",
   "execution_count": 2,
   "metadata": {},
   "outputs": [],
   "source": [
    "# pip install tensorflow"
   ]
  },
  {
   "cell_type": "code",
   "execution_count": 3,
   "metadata": {},
   "outputs": [],
   "source": [
    "# !pip install --upgrade tensorflow-gpu"
   ]
  },
  {
   "cell_type": "code",
   "execution_count": 2,
   "metadata": {},
   "outputs": [
    {
     "name": "stdout",
     "output_type": "stream",
     "text": [
      "Collecting scikit-learn\n",
      "  Using cached scikit_learn-0.24.0-cp36-cp36m-manylinux2010_x86_64.whl (22.2 MB)\n",
      "Requirement already satisfied: threadpoolctl>=2.0.0 in /userhome/30/xwu/anaconda3/envs/tensorflow-gpu/lib/python3.6/site-packages (from scikit-learn) (2.1.0)\n",
      "Requirement already satisfied: joblib>=0.11 in /userhome/30/xwu/anaconda3/envs/tensorflow-gpu/lib/python3.6/site-packages (from scikit-learn) (1.0.0)\n",
      "Requirement already satisfied: scipy>=0.19.1 in /userhome/30/xwu/anaconda3/envs/tensorflow-gpu/lib/python3.6/site-packages (from scikit-learn) (1.5.4)\n",
      "Requirement already satisfied: numpy>=1.13.3 in /userhome/30/xwu/anaconda3/envs/tensorflow-gpu/lib/python3.6/site-packages (from scikit-learn) (1.19.2)\n",
      "Installing collected packages: scikit-learn\n",
      "Successfully installed scikit-learn-0.24.0\n",
      "Note: you may need to restart the kernel to use updated packages.\n"
     ]
    }
   ],
   "source": [
    "pip install -U scikit-learn"
   ]
  },
  {
   "cell_type": "code",
   "execution_count": 4,
   "metadata": {},
   "outputs": [
    {
     "name": "stdout",
     "output_type": "stream",
     "text": [
      "Requirement already satisfied: pandas in /userhome/30/xwu/anaconda3/envs/tensorflow-gpu/lib/python3.6/site-packages (1.1.5)\n",
      "Requirement already satisfied: numpy>=1.15.4 in /userhome/30/xwu/anaconda3/envs/tensorflow-gpu/lib/python3.6/site-packages (from pandas) (1.19.2)\n",
      "Requirement already satisfied: pytz>=2017.2 in /userhome/30/xwu/anaconda3/envs/tensorflow-gpu/lib/python3.6/site-packages (from pandas) (2020.5)\n",
      "Requirement already satisfied: python-dateutil>=2.7.3 in /userhome/30/xwu/anaconda3/envs/tensorflow-gpu/lib/python3.6/site-packages (from pandas) (2.8.1)\n",
      "Requirement already satisfied: six>=1.5 in /userhome/30/xwu/anaconda3/envs/tensorflow-gpu/lib/python3.6/site-packages (from python-dateutil>=2.7.3->pandas) (1.15.0)\n",
      "Note: you may need to restart the kernel to use updated packages.\n"
     ]
    }
   ],
   "source": [
    "pip install pandas"
   ]
  },
  {
   "cell_type": "code",
   "execution_count": 2,
   "metadata": {},
   "outputs": [],
   "source": [
    "import os \n",
    "\n",
    "dir_name= os.getcwd()+'/data/'"
   ]
  },
  {
   "cell_type": "code",
   "execution_count": 3,
   "metadata": {},
   "outputs": [
    {
     "name": "stderr",
     "output_type": "stream",
     "text": [
      "All model checkpoint layers were used when initializing TFBertForSequenceClassification.\n",
      "\n",
      "Some layers of TFBertForSequenceClassification were not initialized from the model checkpoint at bert-base-uncased and are newly initialized: ['classifier']\n",
      "You should probably TRAIN this model on a down-stream task to be able to use it for predictions and inference.\n"
     ]
    },
    {
     "name": "stdout",
     "output_type": "stream",
     "text": [
      "Model: \"tf_bert_for_sequence_classification\"\n",
      "_________________________________________________________________\n",
      "Layer (type)                 Output Shape              Param #   \n",
      "=================================================================\n",
      "bert (TFBertMainLayer)       multiple                  109482240 \n",
      "_________________________________________________________________\n",
      "dropout_37 (Dropout)         multiple                  0         \n",
      "_________________________________________________________________\n",
      "classifier (Dense)           multiple                  2307      \n",
      "=================================================================\n",
      "Total params: 109,484,547\n",
      "Trainable params: 109,484,547\n",
      "Non-trainable params: 0\n",
      "_________________________________________________________________\n"
     ]
    }
   ],
   "source": [
    "from transformers import BertTokenizer, TFBertForSequenceClassification,TFBertModel\n",
    "from transformers import InputExample, InputFeatures\n",
    "\n",
    "\n",
    "model = TFBertForSequenceClassification.from_pretrained(\"bert-base-uncased\",num_labels=3)\n",
    "\n",
    "tokenizer = BertTokenizer.from_pretrained(\"bert-base-uncased\")\n",
    "model.summary()"
   ]
  },
  {
   "cell_type": "code",
   "execution_count": 5,
   "metadata": {},
   "outputs": [],
   "source": [
    "# nasdaq_files=\"/userhome/cs/wuxue/Sentiment_Analysis/stock_ticker_datasets/nasdaq.csv\"\n",
    "# nyse_files=\"/userhome/cs/wuxue/Sentiment_Analysis/stock_ticker_datasets/nyse.csv\"\n",
    "# nasdaq=pd.read_csv(nasdaq_files) \n",
    "# nyse=pd.read_csv(nyse_files)\n",
    "\n",
    "# nasdaq['Symbol']=nasdaq['Symbol'].astype(str)\n",
    "# nasdaq_input=nasdaq['Symbol']\n",
    "\n",
    "# nyse['Symbol']=nyse['Symbol'].astype(str)\n",
    "# nyse_input=nyse['Symbol']\n",
    "# # 3081\n",
    "# n = 100  #chunk row size\n",
    "# nasdaq_df = [nasdaq_input[i:i+n] for i in range(0,nasdaq_input.shape[0],n)]\n",
    "# nyse_df = [nyse_input[i:i+n] for i in range(0,nyse_input.shape[0],n)]\n",
    "# df=nasdaq_df+nyse_df"
   ]
  },
  {
   "cell_type": "code",
   "execution_count": null,
   "metadata": {},
   "outputs": [],
   "source": [
    "# df = pd.DataFrame()\n",
    "# for list in nasdaq_df:\n",
    "#      for name in list:\n",
    "#             try:\n",
    "#                 df_tweets = pd.read_csv('/userhome/cs/wuxue/Sentiment_Analysis/data-tweets/data-$%s-tweets.csv'%name ,names=['dates','tweets'],index_col='dates')\n",
    "#                 df_dates=pd.read_csv('/userhome/cs/wuxue/Sentiment_Analysis/stock_label/data-%s-label.csv'%name,names=['dates','label'],index_col='dates')\n",
    "\n",
    "#                 merge=pd.merge(df_tweets,df_dates, how='inner', left_index=True, right_index=True)\n",
    "#                 df=df.append(merge)\n",
    "                \n",
    "#             except:\n",
    "#                 print('no such file exist')\n",
    "#                 pass\n",
    "# df.to_csv('labelled_tweets.csv')"
   ]
  },
  {
   "cell_type": "code",
   "execution_count": 6,
   "metadata": {},
   "outputs": [],
   "source": [
    "import tensorflow as tf\n",
    "import pandas as pd\n",
    "import numpy as np\n",
    "from sklearn.model_selection import train_test_split\n",
    "\n",
    "def read_tweets(name):\n",
    "   \n",
    "    print('reading tweets..')\n",
    "    \n",
    "    df = pd.read_csv(name)\n",
    "    print(df)\n",
    "\n",
    "    df = df.drop(['Unnamed: 0','dates','ticker','compound_vader_score'],axis=1)\n",
    "    df=df.reset_index(drop=True)\n",
    "    df=df.dropna()\n",
    "    \n",
    "    possible_labels = df.pred_label.unique()\n",
    "    label_dict = {}\n",
    "    for index, possible_label in enumerate(possible_labels):\n",
    "        label_dict[possible_label] = index\n",
    "    \n",
    "    df['label'] = df.label.replace(label_dict)\n",
    "    df['pred_label'] = df.pred_label.replace(label_dict)\n",
    "    x_train,y_train=train_test_split(df,test_size=0.2,random_state=0,stratify=df.pred_label.values)\n",
    "#     print(x_train)\n",
    "    return x_train,y_train\n",
    "# read_tweets('nasdaq_labelled_tweets.csv')\n",
    "\n",
    "def read_news(name):\n",
    "    print('reading news..')\n",
    "    \n",
    "    df = pd.read_csv(name)\n",
    "    print(df)\n",
    "   \n",
    "    df = df.drop(['Unnamed: 0','dates','ticker','compound_vader_score'],axis=1)\n",
    "    df=df.reset_index(drop=True)\n",
    "    df=df.dropna()\n",
    "#     label_dict = {0:1,1:2,2:3}\n",
    "    possible_labels = df.pred_label.unique()\n",
    "    label_dict = {}\n",
    "    for index, possible_label in enumerate(possible_labels):\n",
    "        label_dict[possible_label] = index\n",
    "    print(label_dict)\n",
    "\n",
    "    df['pred_label'] = df.pred_label.replace(label_dict)\n",
    "    x_train,y_train=train_test_split(df,\n",
    "                                     test_size=0.2,\n",
    "                                     random_state=0,\n",
    "                                     stratify=df.pred_label.values)\n",
    "#     print(x_train)\n",
    "    return x_train,y_train"
   ]
  },
  {
   "cell_type": "code",
   "execution_count": 7,
   "metadata": {},
   "outputs": [],
   "source": [
    "def convert_data_to_examples(train, test, DATA_COLUMN, LABEL_COLUMN):\n",
    "    print('converting data')\n",
    "    \n",
    "    train_InputExamples = train.apply(lambda x: InputExample(guid=None, # Globally unique ID for bookkeeping, unused in this case\n",
    "                                                          text_a = x[DATA_COLUMN], \n",
    "                                                          text_b = None,\n",
    "                                                          label = x[LABEL_COLUMN]), axis = 1)\n",
    "\n",
    "    validation_InputExamples = test.apply(lambda x: InputExample(guid=None, # Globally unique ID for bookkeeping, unused in this case\n",
    "                                                          text_a = x[DATA_COLUMN], \n",
    "                                                          text_b = None,\n",
    "                                                          label = x[LABEL_COLUMN]), axis = 1)\n",
    "  \n",
    "    return train_InputExamples, validation_InputExamples\n",
    "\n",
    "# train_InputExamples, validation_InputExamples = convert_data_to_examples(x_train,  y_train, 'tweets_x', 'tweets_y')\n",
    "  \n"
   ]
  },
  {
   "cell_type": "code",
   "execution_count": 8,
   "metadata": {},
   "outputs": [],
   "source": [
    "def convert_examples_to_tf_dataset(examples, tokenizer, max_length=128):\n",
    "    print('converting examples to tf_datasets')\n",
    "    features = [] # -> will hold InputFeatures to be converted later\n",
    "    \n",
    "    for e in examples:\n",
    "        # Documentation is really strong for this method, so please take a look at it\n",
    "        input_dict = tokenizer.encode_plus(\n",
    "            e.text_a,\n",
    "            add_special_tokens=True,\n",
    "            max_length=max_length, # truncates if len(s) > max_length\n",
    "            return_token_type_ids=True,\n",
    "            return_attention_mask=True,\n",
    "            pad_to_max_length=True, # pads to the right by default # CHECK THIS for pad_to_max_length\n",
    "            truncation=True\n",
    "        )\n",
    "\n",
    "        input_ids, token_type_ids, attention_mask = (input_dict[\"input_ids\"],\n",
    "            input_dict[\"token_type_ids\"], input_dict['attention_mask'])\n",
    "\n",
    "        features.append(\n",
    "            InputFeatures(\n",
    "                input_ids=input_ids, attention_mask=attention_mask, token_type_ids=token_type_ids, label=e.label\n",
    "            )\n",
    "        )\n",
    "    def gen():\n",
    "        \n",
    "        for f in features:\n",
    "            yield (\n",
    "                {\n",
    "                    \"input_ids\": f.input_ids,\n",
    "                    \"attention_mask\": f.attention_mask,\n",
    "                    \"token_type_ids\": f.token_type_ids,\n",
    "                },\n",
    "                f.label,\n",
    "            )\n",
    "\n",
    "    return tf.data.Dataset.from_generator(\n",
    "        gen,\n",
    "        ({\"input_ids\": tf.int32, \"attention_mask\": tf.int32, \"token_type_ids\": tf.int32}, tf.int64),\n",
    "        (\n",
    "            {\n",
    "                \"input_ids\": tf.TensorShape([None]),\n",
    "                \"attention_mask\": tf.TensorShape([None]),\n",
    "                \"token_type_ids\": tf.TensorShape([None]),\n",
    "            },\n",
    "            tf.TensorShape([]),\n",
    "        ),\n",
    "    )\n",
    "\n"
   ]
  },
  {
   "cell_type": "code",
   "execution_count": 9,
   "metadata": {},
   "outputs": [],
   "source": [
    "def model_train(file_name):\n",
    "    print('model training')\n",
    "    x_train,y_train=read_tweets(file_name)    \n",
    "\n",
    "    train_InputExamples, validation_InputExamples = convert_data_to_examples(x_train, y_train, 'tweets', 'pred_label')\n",
    "#     print(train_InputExamples)\n",
    "#     train_data = convert_examples_to_tf_dataset(list(train_InputExamples), tokenizer)\n",
    "    train_data = convert_examples_to_tf_dataset(train_InputExamples.values.tolist(), tokenizer)\n",
    "    print(train_data)\n",
    "    train_data = train_data.shuffle(100).batch(15).repeat(2)\n",
    "\n",
    "\n",
    "    validation_data = convert_examples_to_tf_dataset(list(validation_InputExamples), tokenizer)\n",
    "#     validation_data = convert_examples_to_tf_dataset(validation_InputExamples.values.tolist(), tokenizer)\n",
    "    validation_data = validation_data.batch(15)\n",
    "    return train_data,validation_data\n",
    "\n",
    "def news_model_train(file_name):\n",
    "    print('model training')\n",
    "    x_train,y_train=read_news(file_name)    \n",
    "\n",
    "    train_InputExamples, validation_InputExamples = convert_data_to_examples(x_train, y_train, 'news', 'pred_label')\n",
    "#     print(train_InputExamples)\n",
    "#     train_data = convert_examples_to_tf_dataset(list(train_InputExamples), tokenizer)\n",
    "    train_data = convert_examples_to_tf_dataset(train_InputExamples.values.tolist(), tokenizer)\n",
    "    print(train_data)\n",
    "    train_data = train_data.shuffle(100).batch(15).repeat(2)\n",
    "\n",
    "\n",
    "    validation_data = convert_examples_to_tf_dataset(list(validation_InputExamples), tokenizer)\n",
    "#     validation_data = convert_examples_to_tf_dataset(validation_InputExamples.values.tolist(), tokenizer)\n",
    "    validation_data = validation_data.batch(15)\n",
    "    return train_data,validation_data\n",
    "# model_train('nasdaq_labelled_tweets.csv')"
   ]
  },
  {
   "cell_type": "code",
   "execution_count": 10,
   "metadata": {},
   "outputs": [],
   "source": [
    "def model_validation(train_data,validation_data):\n",
    "    print('validation..')\n",
    "#     model.add(Dense(3, activation='softmax'))\n",
    "    model.compile(optimizer=tf.keras.optimizers.Adam(learning_rate=3e-5, epsilon=1e-08, clipnorm=1.0), \n",
    "                  loss=tf.keras.losses.SparseCategoricalCrossentropy(from_logits=True), \n",
    "                  metrics=[tf.keras.metrics.SparseCategoricalAccuracy('accuracy')])\n",
    "    \n",
    "\n",
    "    # model.fit(train_data, epochs=2, validation_data=validation_data)\n",
    "    history=model.fit(train_data, epochs=2, validation_data=validation_data)\n",
    "    print(history)\n",
    "    return history"
   ]
  },
  {
   "cell_type": "code",
   "execution_count": 11,
   "metadata": {},
   "outputs": [],
   "source": [
    "import matplotlib.pyplot as plt\n",
    "import os\n",
    "from datetime import datetime\n",
    "\n",
    "def accuracy_visualization(history):\n",
    "    print('visualization')\n",
    "    loss_train = history.history['accuracy']\n",
    "    loss_train = np.array(loss_train)\n",
    "    loss_val = history.history['val_accuracy']\n",
    "    loss_val=np.array(loss_val)\n",
    "    print(loss_train)\n",
    "    print(loss_val)\n",
    "    epochs=range(1, len(loss_train) + 1)\n",
    "    plt.plot(epochs, loss_train, 'g', label='Training accuracy')\n",
    "    plt.plot(epochs, loss_val, 'b', label='validation accuracy')\n",
    "    plt.title('Training and Validation accuracy')\n",
    "    plt.xlabel('Epochs')\n",
    "    plt.ylabel('Accuracy')\n",
    "    plt.ylim(ymin=0)\n",
    "    plt.ylim(ymax=1)\n",
    "    plt.legend()\n",
    "    plt.show()\n",
    "#     date=datetime.now().strftime(\"%Y-%m-%d\")\n",
    "#     path='/userhome/cs/wuxue/Sentiment_Analysis/results/us/nasdaq/'+date+'-validation-graph'\n",
    "    \n",
    "    \n",
    "#     print(trend_path)\n",
    "#     plt.savefig(path)\n",
    "#     print(my_path)\n",
    "    \n",
    "# accuracy_visualization(history,'AACQ')\n",
    " \n",
    "#     with open('/userhome/cs/wuxue/Sentiment_Analysis/data-tweets/'+'data-%s-tweets.csv'%name,'w') as f:\n",
    "#     plt.savefig('foo.png')\n"
   ]
  },
  {
   "cell_type": "code",
   "execution_count": 12,
   "metadata": {},
   "outputs": [],
   "source": [
    "# data training\n",
    "def start(file_name):\n",
    "    train_data,validation_data=model_train(file_name)\n",
    "    history=model_validation(train_data,validation_data)\n",
    "    return history\n",
    "    \n",
    "\n",
    "def news_start(file_name):\n",
    "    train_data,validation_data=news_model_train(file_name)\n",
    "    history=model_validation(train_data,validation_data)\n",
    "    return history\n",
    "    "
   ]
  },
  {
   "cell_type": "markdown",
   "metadata": {},
   "source": [
    "\n"
   ]
  },
  {
   "cell_type": "code",
   "execution_count": 48,
   "metadata": {
    "scrolled": true
   },
   "outputs": [
    {
     "name": "stdout",
     "output_type": "stream",
     "text": [
      "model training\n",
      "reading tweets..\n",
      "       Unnamed: 0       dates ticker  compound_vader_score  pred_label  \\\n",
      "0               0  2020-12-26   ABCL              0.778300           2   \n",
      "1               1  2020-12-26   ABEO              0.226300           2   \n",
      "2               2  2020-12-26   ABUS              0.361200           2   \n",
      "3               3  2020-12-26   ACHV              0.541300           2   \n",
      "4               4  2020-12-26    ADP              0.000000           1   \n",
      "...           ...         ...    ...                   ...         ...   \n",
      "23744       23744  2021-01-08     ZS              0.178829           2   \n",
      "23745       23745  2021-01-08   ZSAN              0.087868           2   \n",
      "23746       23746  2021-01-08   ZUMZ              0.000000           1   \n",
      "23747       23747  2021-01-08   ZYNE              0.000000           1   \n",
      "23748       23748  2021-01-08   ZYXI              0.074583           2   \n",
      "\n",
      "                                                  tweets  \n",
      "0      b'RT @TradezTiger: Why Investors Like $CBBT? \\...  \n",
      "1      b'RT @TradezTiger: Why Investors Like $CBBT? \\...  \n",
      "2      b'RT @TradezTiger: Why Investors Like $CBBT? \\...  \n",
      "3      b'RT @TradezTiger: Why Investors Like $CBBT? \\...  \n",
      "4      b'RT @TradezTiger: Why Investors Like $CBBT? \\...  \n",
      "...                                                  ...  \n",
      "23744  b'@sentivcapital Same here, $AMRN was my bigge...  \n",
      "23745  b'@sentivcapital @juliaskripkaser @buysidebio ...  \n",
      "23746  b\"$ARPO Cool basic science + some clinical val...  \n",
      "23747  b\"FREE TRIAL\\nSign up and be ready to receive ...  \n",
      "23748  b'$ARPO  My average is $0.982 https://t.co/Beu...  \n",
      "\n",
      "[23749 rows x 6 columns]\n",
      "converting data\n",
      "converting examples to tf_datasets\n"
     ]
    },
    {
     "name": "stderr",
     "output_type": "stream",
     "text": [
      "/userhome/30/xwu/anaconda3/envs/tensorflow-gpu/lib/python3.6/site-packages/transformers/tokenization_utils_base.py:2179: FutureWarning: The `pad_to_max_length` argument is deprecated and will be removed in a future version, use `padding=True` or `padding='longest'` to pad to the longest sequence in the batch, or use `padding='max_length'` to pad to a max length. In this case, you can give a specific length with `max_length` (e.g. `max_length=45`) or leave max_length to None to pad to the maximal input size of the model (e.g. 512 for Bert).\n",
      "  FutureWarning,\n"
     ]
    },
    {
     "name": "stdout",
     "output_type": "stream",
     "text": [
      "<FlatMapDataset shapes: ({input_ids: (None,), attention_mask: (None,), token_type_ids: (None,)}, ()), types: ({input_ids: tf.int32, attention_mask: tf.int32, token_type_ids: tf.int32}, tf.int64)>\n",
      "converting examples to tf_datasets\n"
     ]
    },
    {
     "name": "stderr",
     "output_type": "stream",
     "text": [
      "The parameters `output_attentions`, `output_hidden_states` and `use_cache` cannot be updated when calling a model.They have to be set to True/False in the config object (i.e.: `config=XConfig.from_pretrained('name', output_attentions=True)`).\n",
      "The parameter `return_dict` cannot be set in graph mode and will always be set to `True`.\n"
     ]
    },
    {
     "name": "stdout",
     "output_type": "stream",
     "text": [
      "validation..\n",
      "Epoch 1/2\n"
     ]
    },
    {
     "name": "stderr",
     "output_type": "stream",
     "text": [
      "The parameters `output_attentions`, `output_hidden_states` and `use_cache` cannot be updated when calling a model.They have to be set to True/False in the config object (i.e.: `config=XConfig.from_pretrained('name', output_attentions=True)`).\n",
      "The parameter `return_dict` cannot be set in graph mode and will always be set to `True`.\n"
     ]
    },
    {
     "name": "stdout",
     "output_type": "stream",
     "text": [
      "   1188/Unknown - 677s 570ms/step - loss: nan - accuracy: 0.6437"
     ]
    },
    {
     "name": "stderr",
     "output_type": "stream",
     "text": [
      "The parameters `output_attentions`, `output_hidden_states` and `use_cache` cannot be updated when calling a model.They have to be set to True/False in the config object (i.e.: `config=XConfig.from_pretrained('name', output_attentions=True)`).\n",
      "The parameter `return_dict` cannot be set in graph mode and will always be set to `True`.\n"
     ]
    },
    {
     "name": "stdout",
     "output_type": "stream",
     "text": [
      "1188/1188 [==============================] - 707s 595ms/step - loss: nan - accuracy: 0.6437 - val_loss: nan - val_accuracy: 0.6436\n",
      "Epoch 2/2\n",
      "1188/1188 [==============================] - 598s 503ms/step - loss: nan - accuracy: 0.6437 - val_loss: nan - val_accuracy: 0.6436\n",
      "<tensorflow.python.keras.callbacks.History object at 0x145a0a5d7e80>\n"
     ]
    }
   ],
   "source": [
    "nasdaq_vader_tweets_path=os.path.join(dir_name,'train-data/nasdaq/nasdaq_vader_tweets.csv')\n",
    "nasdaq_tweets_history=start(nasdaq_vader_tweets_path)\n"
   ]
  },
  {
   "cell_type": "code",
   "execution_count": 49,
   "metadata": {
    "scrolled": false
   },
   "outputs": [
    {
     "name": "stdout",
     "output_type": "stream",
     "text": [
      "visualization\n",
      "[0.64366543 0.64366543]\n",
      "[0.64357895 0.64357895]\n"
     ]
    },
    {
     "data": {
      "image/png": "[encoded data removed]",
      "text/plain": [
       "<Figure size 432x288 with 1 Axes>"
      ]
     },
     "metadata": {
      "needs_background": "light"
     },
     "output_type": "display_data"
    }
   ],
   "source": [
    "accuracy_visualization(nasdaq_tweets_history)"
   ]
  },
  {
   "cell_type": "code",
   "execution_count": null,
   "metadata": {
    "scrolled": true
   },
   "outputs": [
    {
     "name": "stdout",
     "output_type": "stream",
     "text": [
      "model training\n",
      "reading news..\n",
      "       Unnamed: 0       dates ticker  compound_vader_score  pred_label  \\\n",
      "0               0     01:00AM   PRCP              0.663300           2   \n",
      "1               1     01:00PM   HYAC              0.670500           2   \n",
      "2               2     01:03PM   RELV             -0.361200           0   \n",
      "3               3     01:05PM  GLIBA              0.745600           2   \n",
      "4               4     01:08PM   DXLG              0.510600           2   \n",
      "...           ...         ...    ...                   ...         ...   \n",
      "92144       92144  2021-01-11     YY              0.080133           2   \n",
      "92145       92145  2021-01-11   ZCMD              0.051600           2   \n",
      "92146       92146  2021-01-11     ZM              0.636900           2   \n",
      "92147       92147  2021-01-11     ZS              0.340000           2   \n",
      "92148       92148  2021-01-11   ZUMZ              0.401900           2   \n",
      "\n",
      "                                                    news  \n",
      "0      ATA Creativity Global Reports 2020 Third Quart...  \n",
      "1      ATA Creativity Global Schedules 2020 Third Qua...  \n",
      "2      ATA Creativity Global Reports 2020 Second Quar...  \n",
      "3      ATA Creativity Global Schedules 2020 Second Qu...  \n",
      "4      ATA Creativity Global Regains Compliance with ...  \n",
      "...                                                  ...  \n",
      "92144  Scholar Rock Reports Third Quarter 2020 Financ...  \n",
      "92145  2 Top Biotech Stocks From the IPO Class of 201...  \n",
      "92146  Scholar Rock Announces Closing of Public Offer...  \n",
      "92147  Biotech Stock Roundup: GILD's Veklury Approved...  \n",
      "92148  Scholar Rock Announces Positive Proof-of-Conce...  \n",
      "\n",
      "[92149 rows x 6 columns]\n",
      "{2: 0, 0: 1, 1: 2}\n",
      "converting data\n",
      "converting examples to tf_datasets\n"
     ]
    },
    {
     "name": "stderr",
     "output_type": "stream",
     "text": [
      "/userhome/30/xwu/anaconda3/envs/tensorflow-gpu/lib/python3.6/site-packages/transformers/tokenization_utils_base.py:2179: FutureWarning: The `pad_to_max_length` argument is deprecated and will be removed in a future version, use `padding=True` or `padding='longest'` to pad to the longest sequence in the batch, or use `padding='max_length'` to pad to a max length. In this case, you can give a specific length with `max_length` (e.g. `max_length=45`) or leave max_length to None to pad to the maximal input size of the model (e.g. 512 for Bert).\n",
      "  FutureWarning,\n"
     ]
    },
    {
     "name": "stdout",
     "output_type": "stream",
     "text": [
      "<FlatMapDataset shapes: ({input_ids: (None,), attention_mask: (None,), token_type_ids: (None,)}, ()), types: ({input_ids: tf.int32, attention_mask: tf.int32, token_type_ids: tf.int32}, tf.int64)>\n",
      "converting examples to tf_datasets\n",
      "validation..\n",
      "Epoch 1/2\n",
      "WARNING:tensorflow:AutoGraph could not transform <bound method Socket.send of <zmq.sugar.socket.Socket object at 0x14f2e16420b0>> and will run it as-is.\n",
      "Please report this to the TensorFlow team. When filing the bug, set the verbosity to 10 (on Linux, `export AUTOGRAPH_VERBOSITY=10`) and attach the full output.\n",
      "Cause: <cyfunction Socket.send at 0x14f2e0355b38> is not a module, class, method, function, traceback, frame, or code object\n",
      "To silence this warning, decorate the function with @tf.autograph.experimental.do_not_convert\n",
      "WARNING: AutoGraph could not transform <bound method Socket.send of <zmq.sugar.socket.Socket object at 0x14f2e16420b0>> and will run it as-is.\n",
      "Please report this to the TensorFlow team. When filing the bug, set the verbosity to 10 (on Linux, `export AUTOGRAPH_VERBOSITY=10`) and attach the full output.\n",
      "Cause: <cyfunction Socket.send at 0x14f2e0355b38> is not a module, class, method, function, traceback, frame, or code object\n",
      "To silence this warning, decorate the function with @tf.autograph.experimental.do_not_convert\n"
     ]
    },
    {
     "name": "stderr",
     "output_type": "stream",
     "text": [
      "The parameters `output_attentions`, `output_hidden_states` and `use_cache` cannot be updated when calling a model.They have to be set to True/False in the config object (i.e.: `config=XConfig.from_pretrained('name', output_attentions=True)`).\n",
      "The parameter `return_dict` cannot be set in graph mode and will always be set to `True`.\n",
      "The parameters `output_attentions`, `output_hidden_states` and `use_cache` cannot be updated when calling a model.They have to be set to True/False in the config object (i.e.: `config=XConfig.from_pretrained('name', output_attentions=True)`).\n",
      "The parameter `return_dict` cannot be set in graph mode and will always be set to `True`.\n"
     ]
    },
    {
     "name": "stdout",
     "output_type": "stream",
     "text": [
      "   4115/Unknown - 1138s 277ms/step - loss: 0.4907 - accuracy: 0.8175"
     ]
    }
   ],
   "source": [
    "nasdaq_vader_news_path=os.path.join(dir_name,'train-data/nasdaq/nasdaq_vader_news.csv')\n",
    "    \n",
    "nasdaq_news_history=news_start(nasdaq_vader_news_path)\n",
    "\n"
   ]
  },
  {
   "cell_type": "code",
   "execution_count": null,
   "metadata": {},
   "outputs": [],
   "source": [
    "accuracy_visualization(nasdaq_news_history)"
   ]
  },
  {
   "cell_type": "code",
   "execution_count": null,
   "metadata": {
    "scrolled": true
   },
   "outputs": [],
   "source": [
    "nyse_vader_news_path=os.path.join(dir_name,'train-data/nyse/nyse_vader_news.csv')\n",
    "nyse_news_history=news_start(nyse_vader_news_path)\n"
   ]
  },
  {
   "cell_type": "code",
   "execution_count": null,
   "metadata": {},
   "outputs": [],
   "source": [
    "accuracy_visualization(nyse_news_history)"
   ]
  },
  {
   "cell_type": "code",
   "execution_count": null,
   "metadata": {},
   "outputs": [],
   "source": [
    "nyse_vader_tweets_path=os.path.join(dir_name,'train-data/nyse/nyse_vader_tweets.csv')\n",
    "nyse_tweets_history=start(nyse_vader_tweets_path)\n"
   ]
  },
  {
   "cell_type": "code",
   "execution_count": null,
   "metadata": {},
   "outputs": [],
   "source": [
    "accuracy_visualization(nyse_tweets_history)"
   ]
  },
  {
   "cell_type": "code",
   "execution_count": null,
   "metadata": {},
   "outputs": [],
   "source": [
    "# start('nyse_labelled_tweets.csv')"
   ]
  },
  {
   "cell_type": "code",
   "execution_count": 43,
   "metadata": {
    "scrolled": true
   },
   "outputs": [
    {
     "name": "stdout",
     "output_type": "stream",
     "text": [
      "model training\n",
      "reading news..\n",
      "      Unnamed: 0       dates  ticker  compound_vader_score  pred_label  \\\n",
      "0              0  2012-10-29   80737                0.0722           1   \n",
      "1              1  2013-04-18    4508               -0.4767          -1   \n",
      "2              2  2013-09-02    5924               -0.4767          -1   \n",
      "3              3  2013-09-03    5924                0.3612           1   \n",
      "4              4  2013-11-21    2951               -0.1280          -1   \n",
      "...          ...         ...     ...                   ...         ...   \n",
      "2073        2073  2021-01-13    1928                0.3182           1   \n",
      "2074        2074  2021-01-13    2282                0.3182           1   \n",
      "2075        2075  2021-01-13    2318               -0.4019          -1   \n",
      "2076        2076  2021-01-13    2800               -0.4404          -1   \n",
      "2077        2077  2021-01-13    9988                0.6249           1   \n",
      "\n",
      "                                                   news  \n",
      "0      HSI Widens Gain to Over 200 Pts, Nearly 1-Yr ...  \n",
      "1      <Research Report>G Sachs Boosts CKH HOLDINGS ...  \n",
      "2      *G Sachs Boosts CKH HOLDINGS (00001.HK) TP to...  \n",
      "3        《HKEx》- 00001 CKH HOLDINGS - MONTHLY RETURN...  \n",
      "4      <Outlook>G Sachs, M Stanley's HK Stock Top Pi...  \n",
      "...                                                 ...  \n",
      "2073     《HKEx》- 03798 HOMELAND ITL - Monthly Return...  \n",
      "2074     《HKEx》- 03799 DALI FOODS - Monthly Return o...  \n",
      "2075     《HKEx》- 03799 DALI FOODS - Monthly Return o...  \n",
      "2076     《HKEx》- 03799 DALI FOODS - Monthly Return o...  \n",
      "2077     《HKEx》- 03799 DALI FOODS - Monthly Return o...  \n",
      "\n",
      "[2078 rows x 6 columns]\n",
      "{1: 0, -1: 1, 0: 2}\n",
      "converting data\n",
      "converting examples to tf_datasets\n"
     ]
    },
    {
     "name": "stderr",
     "output_type": "stream",
     "text": [
      "/userhome/30/xwu/anaconda3/envs/tensorflow-gpu/lib/python3.6/site-packages/transformers/tokenization_utils_base.py:2179: FutureWarning: The `pad_to_max_length` argument is deprecated and will be removed in a future version, use `padding=True` or `padding='longest'` to pad to the longest sequence in the batch, or use `padding='max_length'` to pad to a max length. In this case, you can give a specific length with `max_length` (e.g. `max_length=45`) or leave max_length to None to pad to the maximal input size of the model (e.g. 512 for Bert).\n",
      "  FutureWarning,\n"
     ]
    },
    {
     "name": "stdout",
     "output_type": "stream",
     "text": [
      "<FlatMapDataset shapes: ({input_ids: (None,), attention_mask: (None,), token_type_ids: (None,)}, ()), types: ({input_ids: tf.int32, attention_mask: tf.int32, token_type_ids: tf.int32}, tf.int64)>\n",
      "converting examples to tf_datasets\n"
     ]
    },
    {
     "name": "stderr",
     "output_type": "stream",
     "text": [
      "The parameters `output_attentions`, `output_hidden_states` and `use_cache` cannot be updated when calling a model.They have to be set to True/False in the config object (i.e.: `config=XConfig.from_pretrained('name', output_attentions=True)`).\n",
      "The parameter `return_dict` cannot be set in graph mode and will always be set to `True`.\n"
     ]
    },
    {
     "name": "stdout",
     "output_type": "stream",
     "text": [
      "validation..\n",
      "Epoch 1/5\n"
     ]
    },
    {
     "name": "stderr",
     "output_type": "stream",
     "text": [
      "The parameters `output_attentions`, `output_hidden_states` and `use_cache` cannot be updated when calling a model.They have to be set to True/False in the config object (i.e.: `config=XConfig.from_pretrained('name', output_attentions=True)`).\n",
      "The parameter `return_dict` cannot be set in graph mode and will always be set to `True`.\n"
     ]
    },
    {
     "name": "stdout",
     "output_type": "stream",
     "text": [
      "    260/Unknown - 121s 467ms/step - loss: nan - accuracy: 0.8929"
     ]
    },
    {
     "name": "stderr",
     "output_type": "stream",
     "text": [
      "The parameters `output_attentions`, `output_hidden_states` and `use_cache` cannot be updated when calling a model.They have to be set to True/False in the config object (i.e.: `config=XConfig.from_pretrained('name', output_attentions=True)`).\n",
      "The parameter `return_dict` cannot be set in graph mode and will always be set to `True`.\n"
     ]
    },
    {
     "name": "stdout",
     "output_type": "stream",
     "text": [
      "260/260 [==============================] - 127s 488ms/step - loss: nan - accuracy: 0.8929 - val_loss: nan - val_accuracy: 0.8942\n",
      "Epoch 2/5\n",
      "260/260 [==============================] - 127s 487ms/step - loss: nan - accuracy: 0.8929 - val_loss: nan - val_accuracy: 0.8942\n",
      "Epoch 3/5\n",
      "260/260 [==============================] - 128s 494ms/step - loss: nan - accuracy: 0.8929 - val_loss: nan - val_accuracy: 0.8942\n",
      "Epoch 4/5\n",
      "260/260 [==============================] - 128s 494ms/step - loss: nan - accuracy: 0.8929 - val_loss: nan - val_accuracy: 0.8942\n",
      "Epoch 5/5\n",
      "260/260 [==============================] - 128s 493ms/step - loss: nan - accuracy: 0.8929 - val_loss: nan - val_accuracy: 0.8942\n",
      "<tensorflow.python.keras.callbacks.History object at 0x145a15e60630>\n"
     ]
    }
   ],
   "source": [
    "\n",
    "hkex_news_history=os.path.join(dir_name,'train-data/hkex/hkex_vader_news.csv')\n",
    "hkex_news_history=news_start(hkex_news_history)\n",
    "\n",
    "# hkex_news_history=news_start('hkex_labelled_news.csv')\n"
   ]
  },
  {
   "cell_type": "code",
   "execution_count": 44,
   "metadata": {
    "scrolled": true
   },
   "outputs": [
    {
     "name": "stdout",
     "output_type": "stream",
     "text": [
      "visualization\n",
      "[0.89290011 0.89290011 0.89290011 0.89290011 0.89290011]\n",
      "[0.89423078 0.89423078 0.89423078 0.89423078 0.89423078]\n"
     ]
    },
    {
     "data": {
      "image/png": "[encoded data removed]",
      "text/plain": [
       "<Figure size 432x288 with 1 Axes>"
      ]
     },
     "metadata": {
      "needs_background": "light"
     },
     "output_type": "display_data"
    }
   ],
   "source": [
    "accuracy_visualization(hkex_news_history)"
   ]
  },
  {
   "cell_type": "code",
   "execution_count": 4,
   "metadata": {},
   "outputs": [],
   "source": [
    "import os \n",
    "\n",
    "# create folder\n",
    "# for list in df:\n",
    "#     for name in list:\n",
    "#         try:  \n",
    "#             path='/userhome/cs/wuxue/Sentiment_Analysis/results/us/'+str(name)+'/trends'\n",
    "#             os.mkdir(path)  \n",
    "#         except OSError as error:  \n",
    "#             print(error)  \n",
    "# df = pd.DataFrame(columns = ['dates' , 'tweets', 'label'])\n",
    "# for list in nasdaq_df:\n",
    "#      for name in list:\n",
    "#             try:\n",
    "#                 df_tweets = pd.read_csv('/userhome/cs/wuxue/Sentiment_Analysis/data-tweets/data-$%s-tweets.csv'%name ,names=['dates','tweets'],index_col='dates')\n",
    "#                 df_dates=pd.read_csv('/userhome/cs/wuxue/Sentiment_Analysis/stock_label/data-%s-label.csv'%name,names=['dates','label'],index_col='dates')\n",
    "\n",
    "#                 merge=pd.merge(df_tweets,df_dates, how='inner', left_index=True, right_index=True)\n",
    "#                 df=df.append(merge)\n",
    "                \n",
    "#             except:\n",
    "#                 print('no such file exist')\n",
    "#                 pass\n",
    "# df.to_csv('labelled_tweets.csv')\n",
    "\n",
    "    # merge.reset_index(drop=True)\n",
    "    # x, y = merge.iloc[:, :-1], merge.iloc[:, [-1]]\n",
    "\n",
    "    # df=merge.drop('dates',axis=1)\n",
    "           \n",
    "           \n"
   ]
  },
  {
   "cell_type": "code",
   "execution_count": null,
   "metadata": {},
   "outputs": [],
   "source": [
    "# pred_sentences = ['This was an awesome movie. I watch it twice my time watching this beautiful movie if I have known it was this good',\n",
    "#                   'One of the worst movies of all time. I cannot believe I wasted two hours of my life for this movie']\n"
   ]
  },
  {
   "cell_type": "code",
   "execution_count": 5,
   "metadata": {},
   "outputs": [],
   "source": [
    "# import statistics \n",
    "# from statistics import mode\n",
    "# from datetime import datetime\n",
    "\n",
    "# def trends(ticker):\n",
    "#     df_tweets = pd.read_csv('/userhome/cs/wuxue/Sentiment_Analysis/data-tweets/data-$%s-tweets.csv'%ticker ,names=['dates','tweets'],index_col='dates')\n",
    "#     df_dates=pd.read_csv('/userhome/cs/wuxue/Sentiment_Analysis/stock_label/data-%s-label.csv'%ticker,names=['dates','label'],index_col='dates')\n",
    "\n",
    "#     merge=pd.merge(df_tweets,df_dates, how='inner', left_index=True, right_index=True)\n",
    "#     tf_batch = tokenizer(pred_sentences, max_length=128, padding=True, truncation=True, return_tensors='tf')\n",
    "#     tf_outputs = model(tf_batch)\n",
    "    \n",
    "#     tf_predictions = tf.nn.softmax(tf_outputs[0], axis=-1)\n",
    "\n",
    "#     labels = ['Negative','neutral','Positive']\n",
    "#     label = tf.argmax(tf_predictions, axis=1)\n",
    "\n",
    "#     label = label.numpy()\n",
    "#     trend=labels[mode(label)]\n",
    "#     trend_path='/userhome/cs/wuxue/Sentiment_Analysis/results/us/'+ticker+'/trends/'+'trend-'+ticker+'.csv'\n",
    "#      with open(trend_path,'w') as f:\n",
    "#             writer = csv.writer(f)\n",
    "#             date=datetime.now().strftime(\"%Y-%m-%d\")\n",
    "#             writer.writerow([date,trend])\n",
    "\n",
    "        # print(mode(label))\n",
    "# for i in range(len(pred_sentences)):\n",
    "#     output.append()\n",
    "#     print(pred_sentences[i], \": \\n\", labels[label[i]])"
   ]
  },
  {
   "cell_type": "code",
   "execution_count": null,
   "metadata": {},
   "outputs": [],
   "source": []
  },
  {
   "cell_type": "code",
   "execution_count": null,
   "metadata": {},
   "outputs": [],
   "source": []
  }
 ],
 "metadata": {
  "kernelspec": {
   "display_name": "tensorflow-gpu",
   "language": "python",
   "name": "tensorflow-gpu"
  },
  "language_info": {
   "codemirror_mode": {
    "name": "ipython",
    "version": 3
   },
   "file_extension": ".py",
   "mimetype": "text/x-python",
   "name": "python",
   "nbconvert_exporter": "python",
   "pygments_lexer": "ipython3",
   "version": "3.6.12"
  }
 },
 "nbformat": 4,
 "nbformat_minor": 4
}
