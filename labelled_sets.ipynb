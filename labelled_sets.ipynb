{
 "cells": [
  {
   "cell_type": "code",
   "execution_count": null,
   "metadata": {},
   "outputs": [],
   "source": [
    "pip install pandas_datareader"
   ]
  },
  {
   "cell_type": "code",
   "execution_count": null,
   "metadata": {},
   "outputs": [],
   "source": [
    "import pandas as pd\n",
    "import os\n",
    "\n",
    "\n",
    "dirname = os.getcwd()\n",
    "nasdaq_files = os.path.join(dirname, 'data/stock_ticker_datasets/nasdaq.csv')\n",
    "nyse_files = os.path.join(dirname, 'data/stock_ticker_datasets/nyse.csv')\n",
    "hkex_files = os.path.join(dirname, 'data/stock_ticker_datasets/hkex.csv')\n",
    "\n",
    "\n",
    "nasdaq=pd.read_csv(nasdaq_files) \n",
    "nyse=pd.read_csv(nyse_files)\n",
    "hkex=pd.read_csv(hkex_files) \n",
    "\n",
    "nasdaq['Symbol']=nasdaq['Symbol'].astype(str)\n",
    "nasdaq_input=nasdaq['Symbol']\n",
    "\n",
    "nyse['Symbol']=nyse['Symbol'].astype(str)\n",
    "nyse_input=nyse['Symbol']\n",
    "\n",
    "hkex['Ticker']=hkex['Ticker'].astype(str)\n",
    "hkex_input=hkex['Ticker']\n",
    "\n",
    "n = 100  #chunk row size\n",
    "\n",
    "nasdaq_df = [nasdaq_input[i:i+n] for i in range(0,nasdaq_input.shape[0],n)]\n",
    "nyse_df = [nyse_input[i:i+n] for i in range(0,nyse_input.shape[0],n)]\n",
    "\n",
    "hkex_df = [hkex_input[i:i+n] for i in range(0,hkex_input.shape[0],n)]\n"
   ]
  },
  {
   "cell_type": "code",
   "execution_count": null,
   "metadata": {},
   "outputs": [],
   "source": [
    "from datetime import date\n",
    "from pandas_datareader import data\n",
    "import csv\n",
    "\n",
    "def get_todaylabel (start_date, end_date,ticker):\n",
    "\n",
    "    try: \n",
    "        info = data.get_data_yahoo(ticker,start_date,end_date)\n",
    "        info['label']=(info['Close']-info['Open'])/info['Close']\n",
    "        print(info['label'])\n",
    "        path = os.path.join(dirname, 'data/stock_label/us_stock_label/data-'+ticker+'-label.csv')\n",
    "        with open(path,'a') as f:\n",
    "            for x in range(len(info)):\n",
    "                newdate = str(info.index[x])\n",
    "                newdate= newdate[0:10]\n",
    "\n",
    "                if(info['label'][x]>0.01):\n",
    "                    label=1\n",
    "                elif(info['label'][x]<-0.01):\n",
    "                    label=-1\n",
    "                elif( info['label'][x]>=-0.01 and info['label'][x]<=0.01):\n",
    "                    label=0\n",
    "                print(label)\n",
    "                writer = csv.writer(f)\n",
    "                writer.writerow([newdate,label])\n",
    "    except:\n",
    "        print(\"error\")\n",
    "        pass\n",
    "    \n",
    "\n",
    "def get_hk_label (start_date,end_date,ticker):\n",
    "    \n",
    "\n",
    "    if(len(ticker)<4):\n",
    "        in_ticker=ticker.zfill(4)\n",
    "    elif(len(ticker)>=4):\n",
    "        in_ticker=ticker\n",
    "    path=in_ticker+'.HK'\n",
    "    try:\n",
    "        info = data.DataReader(path, 'yahoo', start_date,end_date)\n",
    "        print(path)\n",
    "        info['label']=(info['Close']-info['Open'])/info['Close']\n",
    "        print(info['label'])\n",
    "        path = os.path.join(dirname, 'data/stock_label/hk_stock_label/data-'+ticker+'-label.csv')\n",
    "        with open(path,'w') as f:\n",
    "            for x in range(len(info)):\n",
    "                newdate = str(info.index[x])\n",
    "                newdate= newdate[0:10]\n",
    "                label=0\n",
    "                if(info['label'][x]>0.01):\n",
    "                    label=1\n",
    "                elif(info['label'][x]<-0.01):\n",
    "                    label=-1\n",
    "                elif( info['label'][x]>=-0.01 and info['label'][x]<=0.01):\n",
    "                    label=0\n",
    "    #                 print(label)\n",
    "                print(label)\n",
    "                writer = csv.writer(f)\n",
    "                writer.writerow([newdate,label])\n",
    "# get_hk_label('2019-01-01','2021-01-11','1')           \n",
    "    except:\n",
    "        print(\"error\")\n",
    "        pass"
   ]
  },
  {
   "cell_type": "code",
   "execution_count": null,
   "metadata": {},
   "outputs": [],
   "source": [
    "for hk in hkex_df:\n",
    "    for name in hk:\n",
    "        get_hk_label('2019-01-01','2021-01-13',name)"
   ]
  },
  {
   "cell_type": "code",
   "execution_count": null,
   "metadata": {},
   "outputs": [],
   "source": [
    "for list in nasdaq_df:\n",
    "    for name in list:\n",
    "        get_todaylabel('2021-01-09','2021-01-11',name)\n",
    "\n",
    "for list in nyse_df:\n",
    "    for name in list:\n",
    "        get_todaylabel('2021-01-09','2021-01-11',name)\n"
   ]
  },
  {
   "cell_type": "code",
   "execution_count": null,
   "metadata": {},
   "outputs": [],
   "source": [
    "import pandas as pd\n",
    "label= pd.DataFrame()\n",
    "\n",
    "\n",
    "for df_list in nasdaq_df:\n",
    "    for name in df_list:\n",
    "        try:\n",
    "            path=os.path.join(dirname,'data/stock_label/us_stock_label/'+'data-'+name+'-label.csv')\n",
    "            df_dates=pd.read_csv(path,names=['dates','label'])\n",
    "            ticker=[name for i in range(len(df_dates))]\n",
    "            df_dates['ticker']=ticker\n",
    "            label=label.append(df_dates)\n",
    "            print(label)\n",
    "        except:\n",
    "            print('no file')\n",
    "            pass\n",
    "\n",
    "\n",
    "\n"
   ]
  },
  {
   "cell_type": "code",
   "execution_count": null,
   "metadata": {},
   "outputs": [],
   "source": [
    "path= os.path.join(dirname, 'data/train-data/nasdaq/nasdaq_labelled_data.csv')\n",
    "label.to_csv(path)"
   ]
  },
  {
   "cell_type": "code",
   "execution_count": null,
   "metadata": {},
   "outputs": [],
   "source": [
    "label= pd.DataFrame()\n",
    "\n",
    "\n",
    "for df_list in nyse_df:\n",
    "    for name in df_list:\n",
    "        try:\n",
    "            path=os.path.join(dirname,'data/stock_label/us_stock_label/'+'data-'+name+'-label.csv')\n",
    "            df_dates=pd.read_csv(path,names=['dates','label'])\n",
    "            ticker=[name for i in range(len(df_dates))]\n",
    "            df_dates['ticker']=ticker\n",
    "            label=label.append(df_dates)\n",
    "            print(label)\n",
    "        except:\n",
    "            print('no file')\n",
    "            pass\n",
    "# label.to_csv('nyse_labelled_data.csv')"
   ]
  },
  {
   "cell_type": "code",
   "execution_count": null,
   "metadata": {},
   "outputs": [],
   "source": [
    "path= os.path.join(dirname, 'data/train-data/nyse/nyse_labelled_data.csv')\n",
    "label.to_csv(path)"
   ]
  },
  {
   "cell_type": "code",
   "execution_count": null,
   "metadata": {},
   "outputs": [],
   "source": [
    "label= pd.DataFrame()\n",
    "for df_list in hkex_df:\n",
    "    for name in df_list:\n",
    "        try:\n",
    "            zname=name.zfill(4)\n",
    "            path=os.path.join(dirname,'data/stock_label/hk_stock_label/'+'data-'+name+'-label.csv')\n",
    "            df_dates=pd.read_csv(path,names=['dates','label'])\n",
    "            ticker=[name for i in range(len(df_dates))]\n",
    "            df_dates['ticker']=ticker\n",
    "            label=label.append(df_dates)\n",
    "            print(label)\n",
    "        except:\n",
    "            print('no file')\n",
    "            pass\n",
    "path= os.path.join(dirname, 'data/train-data/hkex/hkex_labelled_data.csv')\n",
    "label.to_csv(path)"
   ]
  }
 ],
 "metadata": {
  "kernelspec": {
   "display_name": "tensorflow-gpu",
   "language": "python",
   "name": "tensorflow-gpu"
  },
  "language_info": {
   "codemirror_mode": {
    "name": "ipython",
    "version": 3
   },
   "file_extension": ".py",
   "mimetype": "text/x-python",
   "name": "python",
   "nbconvert_exporter": "python",
   "pygments_lexer": "ipython3",
   "version": "3.6.12"
  }
 },
 "nbformat": 4,
 "nbformat_minor": 2
}
